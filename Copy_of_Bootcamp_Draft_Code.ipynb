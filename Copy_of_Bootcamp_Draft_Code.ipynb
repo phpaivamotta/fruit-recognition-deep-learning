{
  "cells": [
    {
      "cell_type": "markdown",
      "metadata": {
        "id": "view-in-github",
        "colab_type": "text"
      },
      "source": [
        "<a href=\"https://colab.research.google.com/github/phpaivamotta/fruit-recognition-deep-learning/blob/main/Copy_of_Bootcamp_Draft_Code.ipynb\" target=\"_parent\"><img src=\"https://colab.research.google.com/assets/colab-badge.svg\" alt=\"Open In Colab\"/></a>"
      ]
    },
    {
      "cell_type": "markdown",
      "metadata": {
        "id": "OtOhl7csy4_h"
      },
      "source": [
        "## Entrar no diretório"
      ]
    },
    {
      "cell_type": "code",
      "execution_count": null,
      "metadata": {
        "id": "lokaqAxsfxn2"
      },
      "outputs": [],
      "source": [
        "from google.colab import drive\n",
        "import os\n",
        "\n",
        "drive.mount('/content/drive')\n",
        "os.chdir('/content/drive/MyDrive/Deep Learning em Python/Material/')"
      ]
    },
    {
      "cell_type": "markdown",
      "metadata": {
        "id": "P_DT2ulohI2P"
      },
      "source": [
        "## Leitura dos arquivos"
      ]
    },
    {
      "cell_type": "code",
      "execution_count": null,
      "metadata": {
        "id": "yRaWDINngntH"
      },
      "outputs": [],
      "source": [
        "import glob\n",
        "import cv2\n",
        "import random\n",
        "import numpy as np\n",
        "from keras.utils import to_categorical\n",
        "from sklearn.model_selection import train_test_split"
      ]
    },
    {
      "cell_type": "code",
      "execution_count": null,
      "metadata": {
        "id": "Ip8IQ3Jvqku5"
      },
      "outputs": [],
      "source": [
        "fruit_types = {'Apple':0, 'Banana':1, 'Pear':2, 'Pineapple':3, 'Grape':4, 'Cherry':5, 'Peach':6, 'Lemon':7, 'Cocos':8, 'Mango':9, 'Watermelon':10, 'Orange':11, 'Strawberry':12}"
      ]
    },
    {
      "cell_type": "code",
      "execution_count": null,
      "metadata": {
        "id": "f-OUzUyMVajC"
      },
      "outputs": [],
      "source": [
        "all_train_files = [img_path for img_path in glob.glob('./Train/*/*.jpg') for fruit in fruit_types if fruit in img_path]\n",
        "train_files, val_files = train_test_split(all_train_files, test_size=0.2, random_state=132)"
      ]
    },
    {
      "cell_type": "code",
      "execution_count": null,
      "metadata": {
        "id": "BImrH0BZhRcr"
      },
      "outputs": [],
      "source": [
        "len(all_train_files)"
      ]
    },
    {
      "cell_type": "code",
      "execution_count": null,
      "metadata": {
        "id": "Oxe0qOFB3FeZ"
      },
      "outputs": [],
      "source": [
        "len(train_files)"
      ]
    },
    {
      "cell_type": "code",
      "execution_count": null,
      "metadata": {
        "id": "GhN-a0BmOJyH"
      },
      "outputs": [],
      "source": [
        "len(val_files)"
      ]
    },
    {
      "cell_type": "markdown",
      "metadata": {
        "id": "RiBPBZQT6w8I"
      },
      "source": [
        "## Gerador"
      ]
    },
    {
      "cell_type": "code",
      "execution_count": null,
      "metadata": {
        "id": "j_ZfuT8769lP"
      },
      "outputs": [],
      "source": [
        "def fruit_imgs_generator(files, batch_size=32):\n",
        "  while True:\n",
        "    batch_files = np.random.choice(files, size=batch_size)\n",
        "\n",
        "    fruit_imgs = []\n",
        "    fruit_labels = []\n",
        "    for single_file in batch_files:\n",
        "      fruit_infos = [(single_file,single_fruit_value) for single_fruit_type, single_fruit_value in fruit_types.items() if single_fruit_type in single_file]\n",
        "      fruit_path = fruit_infos[0][0]\n",
        "      fruit_type_value = fruit_infos[0][1]\n",
        "\n",
        "      image = cv2.imread(fruit_path, cv2.IMREAD_COLOR)\n",
        "      image = cv2.resize(image, (180,180))\n",
        "                 \n",
        "      image = cv2.normalize(image, 0, 1, norm_type=cv2.NORM_MINMAX)\n",
        "\n",
        "      fruit_imgs.append(image)\n",
        "      fruit_labels.append(fruit_type_value)\n",
        "    \n",
        "    batch_x = np.array(fruit_imgs)\n",
        "    batch_y = np.array(fruit_labels)\n",
        "\n",
        "    yield (batch_x, batch_y)"
      ]
    },
    {
      "cell_type": "code",
      "execution_count": null,
      "metadata": {
        "id": "y775QMb5ymqd"
      },
      "outputs": [],
      "source": [
        "batch_size = 250"
      ]
    },
    {
      "cell_type": "code",
      "execution_count": null,
      "metadata": {
        "id": "G0Wh6gFT1YUD"
      },
      "outputs": [],
      "source": [
        "img_train_gen = fruit_imgs_generator(files=train_files, batch_size=batch_size)\n",
        "img_val_gen = fruit_imgs_generator(files=val_files, batch_size=batch_size)"
      ]
    },
    {
      "cell_type": "code",
      "execution_count": null,
      "metadata": {
        "id": "GHB99Q7-Hf6P"
      },
      "outputs": [],
      "source": [
        "img_gen = fruit_imgs_generator(train_files, batch_size=batch_size)"
      ]
    },
    {
      "cell_type": "code",
      "execution_count": null,
      "metadata": {
        "id": "MPaylLQlE5ho"
      },
      "outputs": [],
      "source": [
        "(batch_x, batch_y) = img_gen.__next__()\n",
        "(batch_x.shape, batch_y.shape)"
      ]
    },
    {
      "cell_type": "code",
      "execution_count": null,
      "metadata": {
        "id": "5oJFrr-iLblv"
      },
      "outputs": [],
      "source": [
        "from google.colab.patches import cv2_imshow\n",
        "\n",
        "cv2_imshow(batch_x[0])"
      ]
    },
    {
      "cell_type": "code",
      "execution_count": null,
      "metadata": {
        "id": "Izz7IlYDKNfk"
      },
      "outputs": [],
      "source": [
        "X = batch_x\n",
        "y = batch_y"
      ]
    },
    {
      "cell_type": "code",
      "execution_count": null,
      "metadata": {
        "id": "eesW7x_OUBya"
      },
      "outputs": [],
      "source": [
        "# Sem normalizar ou a normalização já embutida no gerador!\n",
        "X_train = X"
      ]
    },
    {
      "cell_type": "markdown",
      "metadata": {
        "id": "Ayol0drLuHZG"
      },
      "source": [
        "Testar com modelo simples CNN"
      ]
    },
    {
      "cell_type": "code",
      "execution_count": null,
      "metadata": {
        "id": "chXi3oQwuhKg"
      },
      "outputs": [],
      "source": [
        "from tensorflow.keras import Model\n",
        "from keras.models import Sequential\n",
        "from keras.layers import Conv2D,MaxPooling2D,Dense,Flatten,Dropout,BatchNormalization,Input\n",
        "from keras.optimizers import Adam\n",
        "from sklearn import metrics"
      ]
    },
    {
      "cell_type": "code",
      "execution_count": null,
      "metadata": {
        "id": "dN-amdJouoET"
      },
      "outputs": [],
      "source": [
        "# original model\n",
        "model = Sequential()\n",
        "\n",
        "model.add(Conv2D(filters=16, kernel_size=3, activation='relu', padding=\"same\", input_shape=X_train.shape[1:]))\n",
        "model.add(MaxPooling2D(pool_size=2))\n",
        "\n",
        "model.add(Conv2D(filters=32, kernel_size=3, activation='relu', padding=\"same\"))\n",
        "model.add(MaxPooling2D(pool_size=2))\n",
        "\n",
        "model.add(Conv2D(filters=64, kernel_size=3, activation='relu', padding=\"same\"))\n",
        "model.add(MaxPooling2D(pool_size=2))\n",
        "\n",
        "model.add(Dropout(0.5))\n",
        "model.add(Flatten())\n",
        "\n",
        "model.add(Dense(128, activation='relu'))\n",
        "model.add(Dense(13, activation='softmax'))\n",
        "\n",
        "model.summary()"
      ]
    },
    {
      "cell_type": "code",
      "execution_count": null,
      "metadata": {
        "id": "kgyCxkYFyc7w"
      },
      "outputs": [],
      "source": [
        "steps_per_epoch = np.ceil(len(train_files) / batch_size)\n",
        "validation_steps = np.ceil(len(val_files) / batch_size)\n",
        "epochs = 4"
      ]
    },
    {
      "cell_type": "code",
      "execution_count": null,
      "metadata": {
        "id": "iujf6xhQzJMB"
      },
      "outputs": [],
      "source": [
        "model.compile(loss='sparse_categorical_crossentropy', optimizer=Adam(lr=0.001), metrics=['accuracy'])\n",
        "history = model.fit_generator(img_train_gen, steps_per_epoch=steps_per_epoch, epochs=epochs, verbose=1, validation_data=img_val_gen, validation_steps=validation_steps)"
      ]
    },
    {
      "cell_type": "code",
      "execution_count": null,
      "metadata": {
        "id": "0bCeJaIQ0JQR"
      },
      "outputs": [],
      "source": [
        "y_pred = model.predict(X_train)"
      ]
    },
    {
      "cell_type": "code",
      "execution_count": null,
      "metadata": {
        "id": "W9Zy4GQJPP6-"
      },
      "outputs": [],
      "source": [
        "# np.argmax(batch_y, axis=1)\n",
        "batch_y"
      ]
    },
    {
      "cell_type": "code",
      "execution_count": null,
      "metadata": {
        "id": "hcNCygRGz333"
      },
      "outputs": [],
      "source": [
        "import matplotlib.pyplot as plt"
      ]
    },
    {
      "cell_type": "code",
      "execution_count": null,
      "metadata": {
        "id": "CJrmYV3-z1Rj"
      },
      "outputs": [],
      "source": [
        "plt.plot(history.history['loss'], label='Loss')\n",
        "plt.plot(history.history['val_loss'], label='Validation Loss')\n",
        "plt.legend()\n",
        "plt.title('Training - Loss Function')"
      ]
    },
    {
      "cell_type": "code",
      "execution_count": null,
      "metadata": {
        "id": "EM5tAm5dbSGc"
      },
      "outputs": [],
      "source": [
        "np.argmax(y_pred, axis=1)"
      ]
    },
    {
      "cell_type": "code",
      "execution_count": null,
      "metadata": {
        "id": "fpm7_qYmbUQh"
      },
      "outputs": [],
      "source": [
        "y"
      ]
    },
    {
      "cell_type": "code",
      "execution_count": null,
      "metadata": {
        "id": "g4N1fDkP0HOM"
      },
      "outputs": [],
      "source": [
        "metrics.confusion_matrix(np.argmax(y_pred, axis=1), y)"
      ]
    },
    {
      "cell_type": "markdown",
      "metadata": {
        "id": "I1CdSPnrsMi2"
      },
      "source": [
        "Aplicar o modelo a base de teste"
      ]
    },
    {
      "cell_type": "code",
      "execution_count": null,
      "metadata": {
        "id": "bS_Fl_SEsTVI"
      },
      "outputs": [],
      "source": [
        "all_test_files = [img_path for img_path in glob.glob('./Test/*.jpg')]"
      ]
    },
    {
      "cell_type": "code",
      "execution_count": null,
      "metadata": {
        "id": "ZWbllH0QSe3_"
      },
      "outputs": [],
      "source": [
        "len(all_test_files)"
      ]
    },
    {
      "cell_type": "code",
      "execution_count": null,
      "metadata": {
        "id": "pPJ9fPRZ0-Vb"
      },
      "outputs": [],
      "source": [
        "from natsort import natsorted"
      ]
    },
    {
      "cell_type": "code",
      "execution_count": null,
      "metadata": {
        "id": "e2cLlfDm1AO3"
      },
      "outputs": [],
      "source": [
        "# organizar arquivos em ordem ascendente\n",
        "sorted_test_files = natsorted(all_test_files)"
      ]
    },
    {
      "cell_type": "code",
      "execution_count": null,
      "metadata": {
        "id": "OWZJVmKc4wlz"
      },
      "outputs": [],
      "source": [
        "# checar ordem dos arquivos\n",
        "for i, file_name in enumerate(sorted_test_files):\n",
        "  if i != int(file_name.split('_')[-1].split('.')[0]):\n",
        "    print(i, int(file_name.split('_')[-1].split('.')[0]))\n",
        "    break\n",
        "  else:\n",
        "    print(i, file_name)"
      ]
    },
    {
      "cell_type": "code",
      "execution_count": null,
      "metadata": {
        "id": "M1ell06JcgwU"
      },
      "outputs": [],
      "source": [
        "fruit_types"
      ]
    },
    {
      "cell_type": "code",
      "execution_count": null,
      "metadata": {
        "id": "7BGBnfbFsTYb"
      },
      "outputs": [],
      "source": [
        "results = {}\n",
        "\n",
        "for i, test_file_path in enumerate(sorted_test_files):\n",
        "  print(test_file_path)\n",
        "  image = cv2.imread(test_file_path, cv2.IMREAD_COLOR)\n",
        "  image = cv2.resize(image, (180,180))\n",
        "  image = cv2.normalize(image, 0, 1, norm_type=cv2.NORM_MINMAX)\n",
        "\n",
        "  image = np.expand_dims(image, 0)\n",
        "\n",
        "  output_class_value = model.predict(image)\n",
        "  output_class_value = np.argmax(output_class_value, axis=1)\n",
        "  \n",
        "\n",
        "  results[i] = list(fruit_types.keys())[list(fruit_types.values()).index(output_class_value)]"
      ]
    },
    {
      "cell_type": "code",
      "execution_count": null,
      "metadata": {
        "id": "YFO_fSHDUd48"
      },
      "outputs": [],
      "source": [
        "import csv\n",
        "\n",
        "with open('arquivos_sorted_5_epochs.csv', 'w') as csv_file:\n",
        "  writer = csv.writer(csv_file)\n",
        "  writer.writerow(['Id', 'Category'])\n",
        "  for key, value in results.items():\n",
        "    writer.writerow([key, value])"
      ]
    }
  ],
  "metadata": {
    "colab": {
      "provenance": [],
      "include_colab_link": true
    },
    "kernelspec": {
      "display_name": "Python 3",
      "name": "python3"
    },
    "language_info": {
      "name": "python"
    },
    "accelerator": "GPU",
    "gpuClass": "standard"
  },
  "nbformat": 4,
  "nbformat_minor": 0
}